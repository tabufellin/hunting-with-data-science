{
 "cells": [
  {
   "cell_type": "code",
   "execution_count": 111,
   "id": "4eace6fd-2b59-4e04-afa3-d84ab2686c33",
   "metadata": {},
   "outputs": [],
   "source": [
    "import json\n",
    "import pandas as pd\n",
    "import clasificador as clasificador"
   ]
  },
  {
   "cell_type": "code",
   "execution_count": 112,
   "id": "9c5db645-14c8-474a-ba4b-e7b7330f214f",
   "metadata": {},
   "outputs": [
    {
     "name": "stdout",
     "output_type": "stream",
     "text": [
      "Cantidad total de registros: 746909\n"
     ]
    }
   ],
   "source": [
    "with open('large_eve.json', 'r') as file:\n",
    "    data = [json.loads(line) for line in file]\n",
    "\n",
    "print(f\"Cantidad total de registros: {len(data)}\")"
   ]
  },
  {
   "cell_type": "code",
   "execution_count": 113,
   "id": "a3dccf1d-edf7-47ce-a719-bfd32d815aea",
   "metadata": {},
   "outputs": [
    {
     "name": "stdout",
     "output_type": "stream",
     "text": [
      "Cantidad de registros DNS: 15749\n"
     ]
    }
   ],
   "source": [
    "dns_records = [record for record in data if record.get('event_type') == 'dns']\n",
    "print(f\"Cantidad de registros DNS: {len(dns_records)}\")"
   ]
  },
  {
   "cell_type": "code",
   "execution_count": 114,
   "id": "bc4e0b2a-c114-4bf4-9c80-c7af71fbf853",
   "metadata": {},
   "outputs": [
    {
     "name": "stdout",
     "output_type": "stream",
     "text": [
      "{\n",
      "  \"timestamp\": \"2017-07-22T17:33:16.661646-0500\",\n",
      "  \"flow_id\": 1327836194150542,\n",
      "  \"pcap_cnt\": 22269,\n",
      "  \"event_type\": \"dns\",\n",
      "  \"vlan\": 110,\n",
      "  \"src_ip\": \"2001:0dbb:0c18:0011:0260:6eff:fe30:0863\",\n",
      "  \"src_port\": 59680,\n",
      "  \"dest_ip\": \"2001:0500:0001:0000:0000:0000:803f:0235\",\n",
      "  \"dest_port\": 53,\n",
      "  \"proto\": \"UDP\",\n",
      "  \"dns\": {\n",
      "    \"type\": \"query\",\n",
      "    \"id\": 15529,\n",
      "    \"rrname\": \"api.wunderground.com\",\n",
      "    \"rrtype\": \"A\",\n",
      "    \"tx_id\": 0\n",
      "  }\n",
      "}\n",
      "{\n",
      "  \"timestamp\": \"2017-07-22T17:33:24.990320-0500\",\n",
      "  \"flow_id\": 2022925111925872,\n",
      "  \"pcap_cnt\": 54352,\n",
      "  \"event_type\": \"dns\",\n",
      "  \"vlan\": 110,\n",
      "  \"src_ip\": \"2001:0dbb:0c18:0011:0260:6eff:fe30:0863\",\n",
      "  \"src_port\": 38051,\n",
      "  \"dest_ip\": \"2001:0500:0003:0000:0000:0000:0000:0042\",\n",
      "  \"dest_port\": 53,\n",
      "  \"proto\": \"UDP\",\n",
      "  \"dns\": {\n",
      "    \"type\": \"query\",\n",
      "    \"id\": 58278,\n",
      "    \"rrname\": \"stork79.dropbox.com\",\n",
      "    \"rrtype\": \"A\",\n",
      "    \"tx_id\": 0\n",
      "  }\n",
      "}\n"
     ]
    }
   ],
   "source": [
    "print(json.dumps(dns_records[0], indent=2))\n",
    "print(json.dumps(dns_records[1], indent=2))"
   ]
  },
  {
   "cell_type": "code",
   "execution_count": 115,
   "id": "74414d5c-3e65-4bbf-b06f-d5d40ae49e2a",
   "metadata": {},
   "outputs": [
    {
     "name": "stdout",
     "output_type": "stream",
     "text": [
      "Shape del dataframe: (15749, 18)\n"
     ]
    }
   ],
   "source": [
    "df = pd.json_normalize(dns_records)\n",
    "print(f\"Shape del dataframe: {df.shape}\")"
   ]
  },
  {
   "cell_type": "code",
   "execution_count": 116,
   "id": "d88c82c6-9886-4665-b14c-aff9ab7d98c7",
   "metadata": {},
   "outputs": [
    {
     "name": "stdout",
     "output_type": "stream",
     "text": [
      "Cantidad de registros tipo A: 2849\n"
     ]
    }
   ],
   "source": [
    "df_type_a = df[df['dns.rrtype'] == 'A']\n",
    "print(f\"Cantidad de registros tipo A: {len(df_type_a)}\")"
   ]
  },
  {
   "cell_type": "code",
   "execution_count": 117,
   "id": "f6d54984-f699-4724-96c6-f569b820fef3",
   "metadata": {},
   "outputs": [
    {
     "name": "stdout",
     "output_type": "stream",
     "text": [
      "Cantidad de dominios únicos: 177\n"
     ]
    }
   ],
   "source": [
    "unique_domains = df_type_a['dns.rrname'].unique()\n",
    "print(f\"Cantidad de dominios únicos: {len(unique_domains)}\")"
   ]
  },
  {
   "cell_type": "code",
   "execution_count": 118,
   "id": "ee892c4b-9c78-48ec-bd39-7f0b4f2b7253",
   "metadata": {},
   "outputs": [
    {
     "name": "stdout",
     "output_type": "stream",
     "text": [
      "TLD for api.wunderground.com : wunderground.com\n",
      "TLD for safebrowsing.clients.google.com.home : com.home\n"
     ]
    }
   ],
   "source": [
    "def get_TLD(domain, ngram):\n",
    "    parts = domain.split('.')\n",
    "    ngram_parts = ngram.split('.')\n",
    "    if len(ngram_parts) > 0:\n",
    "        for i in range(len(parts) - 1, -1, -1):\n",
    "            if parts[i] in ngram_parts:\n",
    "                return '.'.join(parts[i-1:])\n",
    "    return domain\n",
    "\n",
    "# Example usage\n",
    "domain1 = \"api.wunderground.com\"\n",
    "domain2 = \"safebrowsing.clients.google.com.home\"\n",
    "\n",
    "ngram1 = \"com.wunderground.api\"  # Ngrams for domain1\n",
    "ngram2 = \"home.com.google.clients.safebrowsing\"  # Ngrams for domain2\n",
    "\n",
    "print(\"TLD for\", domain1, \":\", get_TLD(domain1, ngram1))\n",
    "print(\"TLD for\", domain2, \":\", get_TLD(domain2, ngram2))\n",
    "\n",
    "\n"
   ]
  },
  {
   "cell_type": "code",
   "execution_count": 119,
   "id": "ffbf72d0-98f0-446f-bf53-344c7b49ddb0",
   "metadata": {},
   "outputs": [
    {
     "name": "stdout",
     "output_type": "stream",
     "text": [
      "Shape of the dataframe with TLDs: (177, 2)\n"
     ]
    }
   ],
   "source": [
    "df_unique_domains = pd.DataFrame({'domain': unique_domains})\n",
    "df_unique_domains['domain_tld'] = df_unique_domains['domain'].apply(get_tld)\n",
    "\n",
    "#columns_to_drop = ['length', 'digits', 'entropy', 'vowel-cons', 'firstDigitIndex', 'ngrams']\n",
    "\n",
    "#df_unique_domains = df_unique_domains.drop(columns=columns_to_drop)\n",
    "print(f\"Shape of the dataframe with TLDs: {df_unique_domains.shape}\")"
   ]
  },
  {
   "cell_type": "code",
   "execution_count": 120,
   "id": "04dca3d9-0575-4585-85e7-3c580dd0e9bd",
   "metadata": {},
   "outputs": [],
   "source": [
    "#ahora vamos con la parte 2"
   ]
  },
  {
   "cell_type": "code",
   "execution_count": 121,
   "id": "48c8f4ee-891f-4fde-9983-88e4a5366687",
   "metadata": {},
   "outputs": [
    {
     "data": {
      "text/html": [
       "<div>\n",
       "<style scoped>\n",
       "    .dataframe tbody tr th:only-of-type {\n",
       "        vertical-align: middle;\n",
       "    }\n",
       "\n",
       "    .dataframe tbody tr th {\n",
       "        vertical-align: top;\n",
       "    }\n",
       "\n",
       "    .dataframe thead th {\n",
       "        text-align: right;\n",
       "    }\n",
       "</style>\n",
       "<table border=\"1\" class=\"dataframe\">\n",
       "  <thead>\n",
       "    <tr style=\"text-align: right;\">\n",
       "      <th></th>\n",
       "      <th>domain</th>\n",
       "      <th>domain_tld</th>\n",
       "    </tr>\n",
       "  </thead>\n",
       "  <tbody>\n",
       "    <tr>\n",
       "      <th>0</th>\n",
       "      <td>api.wunderground.com</td>\n",
       "      <td>com</td>\n",
       "    </tr>\n",
       "    <tr>\n",
       "      <th>1</th>\n",
       "      <td>stork79.dropbox.com</td>\n",
       "      <td>com</td>\n",
       "    </tr>\n",
       "    <tr>\n",
       "      <th>2</th>\n",
       "      <td>hpca-tier2.office.aol.com.ad.aol.aoltw.net</td>\n",
       "      <td>net</td>\n",
       "    </tr>\n",
       "    <tr>\n",
       "      <th>3</th>\n",
       "      <td>safebrowsing.clients.google.com.home</td>\n",
       "      <td>com.home</td>\n",
       "    </tr>\n",
       "    <tr>\n",
       "      <th>4</th>\n",
       "      <td>fxfeeds.mozilla.com</td>\n",
       "      <td>com</td>\n",
       "    </tr>\n",
       "    <tr>\n",
       "      <th>...</th>\n",
       "      <td>...</td>\n",
       "      <td>...</td>\n",
       "    </tr>\n",
       "    <tr>\n",
       "      <th>172</th>\n",
       "      <td>ntp.ubuntu.com.localdomain</td>\n",
       "      <td>com.localdomain</td>\n",
       "    </tr>\n",
       "    <tr>\n",
       "      <th>173</th>\n",
       "      <td>redir.metaservices.microsoft.com</td>\n",
       "      <td>com</td>\n",
       "    </tr>\n",
       "    <tr>\n",
       "      <th>174</th>\n",
       "      <td>ocsp.verisign.com</td>\n",
       "      <td>com</td>\n",
       "    </tr>\n",
       "    <tr>\n",
       "      <th>175</th>\n",
       "      <td>192.168.22.201:.stayonline.net</td>\n",
       "      <td>net</td>\n",
       "    </tr>\n",
       "    <tr>\n",
       "      <th>176</th>\n",
       "      <td>client-software.real.com</td>\n",
       "      <td>com</td>\n",
       "    </tr>\n",
       "  </tbody>\n",
       "</table>\n",
       "<p>177 rows × 2 columns</p>\n",
       "</div>"
      ],
      "text/plain": [
       "                                         domain       domain_tld\n",
       "0                          api.wunderground.com              com\n",
       "1                           stork79.dropbox.com              com\n",
       "2    hpca-tier2.office.aol.com.ad.aol.aoltw.net              net\n",
       "3          safebrowsing.clients.google.com.home         com.home\n",
       "4                           fxfeeds.mozilla.com              com\n",
       "..                                          ...              ...\n",
       "172                  ntp.ubuntu.com.localdomain  com.localdomain\n",
       "173            redir.metaservices.microsoft.com              com\n",
       "174                           ocsp.verisign.com              com\n",
       "175              192.168.22.201:.stayonline.net              net\n",
       "176                    client-software.real.com              com\n",
       "\n",
       "[177 rows x 2 columns]"
      ]
     },
     "execution_count": 121,
     "metadata": {},
     "output_type": "execute_result"
    }
   ],
   "source": [
    "df_unique_domains"
   ]
  },
  {
   "cell_type": "code",
   "execution_count": 99,
   "id": "45f3f4f5-ef50-43a0-8d36-0333dda27b4e",
   "metadata": {},
   "outputs": [
    {
     "ename": "ValueError",
     "evalue": "node array from the pickle has an incompatible dtype:\n- expected: {'names': ['left_child', 'right_child', 'feature', 'threshold', 'impurity', 'n_node_samples', 'weighted_n_node_samples', 'missing_go_to_left'], 'formats': ['<i8', '<i8', '<i8', '<f8', '<f8', '<i8', '<f8', 'u1'], 'offsets': [0, 8, 16, 24, 32, 40, 48, 56], 'itemsize': 64}\n- got     : [('left_child', '<i8'), ('right_child', '<i8'), ('feature', '<i8'), ('threshold', '<f8'), ('impurity', '<f8'), ('n_node_samples', '<i8'), ('weighted_n_node_samples', '<f8')]",
     "output_type": "error",
     "traceback": [
      "\u001b[0;31m---------------------------------------------------------------------------\u001b[0m",
      "\u001b[0;31mValueError\u001b[0m                                Traceback (most recent call last)",
      "Cell \u001b[0;32mIn[99], line 1\u001b[0m\n\u001b[0;32m----> 1\u001b[0m df_classified \u001b[38;5;241m=\u001b[39m \u001b[43mclasificador\u001b[49m\u001b[38;5;241;43m.\u001b[39;49m\u001b[43mclasificacion\u001b[49m\u001b[43m(\u001b[49m\u001b[43mdf_unique_domains\u001b[49m\u001b[43m)\u001b[49m\n",
      "File \u001b[0;32m~/lab5/clasificador.py:136\u001b[0m, in \u001b[0;36mclasificacion\u001b[0;34m(dataframe)\u001b[0m\n\u001b[1;32m    133\u001b[0m Pkl_Filename \u001b[38;5;241m=\u001b[39m \u001b[38;5;124m\"\u001b[39m\u001b[38;5;124mPickle_RL_Model.pkl\u001b[39m\u001b[38;5;124m\"\u001b[39m  \n\u001b[1;32m    135\u001b[0m \u001b[38;5;28;01mwith\u001b[39;00m \u001b[38;5;28mopen\u001b[39m(Pkl_Filename, \u001b[38;5;124m'\u001b[39m\u001b[38;5;124mrb\u001b[39m\u001b[38;5;124m'\u001b[39m) \u001b[38;5;28;01mas\u001b[39;00m file:  \n\u001b[0;32m--> 136\u001b[0m     Pickled_LR_Model \u001b[38;5;241m=\u001b[39m pickle\u001b[38;5;241m.\u001b[39mload(file)\n\u001b[1;32m    138\u001b[0m prediccion \u001b[38;5;241m=\u001b[39m Pickled_LR_Model\u001b[38;5;241m.\u001b[39mpredict(df_final)\n\u001b[1;32m    140\u001b[0m df_final[\u001b[38;5;124m'\u001b[39m\u001b[38;5;124mdomain_tld\u001b[39m\u001b[38;5;124m'\u001b[39m] \u001b[38;5;241m=\u001b[39m df_domain\n",
      "File \u001b[0;32msklearn/tree/_tree.pyx:865\u001b[0m, in \u001b[0;36msklearn.tree._tree.Tree.__setstate__\u001b[0;34m()\u001b[0m\n",
      "File \u001b[0;32msklearn/tree/_tree.pyx:1571\u001b[0m, in \u001b[0;36msklearn.tree._tree._check_node_ndarray\u001b[0;34m()\u001b[0m\n",
      "\u001b[0;31mValueError\u001b[0m: node array from the pickle has an incompatible dtype:\n- expected: {'names': ['left_child', 'right_child', 'feature', 'threshold', 'impurity', 'n_node_samples', 'weighted_n_node_samples', 'missing_go_to_left'], 'formats': ['<i8', '<i8', '<i8', '<f8', '<f8', '<i8', '<f8', 'u1'], 'offsets': [0, 8, 16, 24, 32, 40, 48, 56], 'itemsize': 64}\n- got     : [('left_child', '<i8'), ('right_child', '<i8'), ('feature', '<i8'), ('threshold', '<f8'), ('impurity', '<f8'), ('n_node_samples', '<i8'), ('weighted_n_node_samples', '<f8')]"
     ]
    }
   ],
   "source": [
    "df_classified = clasificador.clasificacion(df_unique_domains)"
   ]
  },
  {
   "cell_type": "code",
   "execution_count": null,
   "id": "0726bf9f-c1c3-4141-a9ed-80e7d228d065",
   "metadata": {},
   "outputs": [],
   "source": []
  }
 ],
 "metadata": {
  "kernelspec": {
   "display_name": "Python 3 (ipykernel)",
   "language": "python",
   "name": "python3"
  },
  "language_info": {
   "codemirror_mode": {
    "name": "ipython",
    "version": 3
   },
   "file_extension": ".py",
   "mimetype": "text/x-python",
   "name": "python",
   "nbconvert_exporter": "python",
   "pygments_lexer": "ipython3",
   "version": "3.11.4"
  }
 },
 "nbformat": 4,
 "nbformat_minor": 5
}
